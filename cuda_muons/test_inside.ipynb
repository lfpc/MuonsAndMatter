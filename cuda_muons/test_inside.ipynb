{
 "cells": [
  {
   "cell_type": "code",
   "execution_count": 1,
   "id": "a0de4306",
   "metadata": {},
   "outputs": [],
   "source": [
    "import torch\n",
    "import numpy as np"
   ]
  },
  {
   "cell_type": "code",
   "execution_count": 2,
   "id": "346ed2e7",
   "metadata": {},
   "outputs": [],
   "source": [
    "grid_dims = (100, 100, 1000)\n",
    "x_lim, y_lim, z_lim = (-5, 5), (-5, 5), (0, 40)"
   ]
  },
  {
   "cell_type": "code",
   "execution_count": null,
   "id": "3d342d61",
   "metadata": {},
   "outputs": [
    {
     "data": {
      "text/plain": [
       "torch.Size([8, 8, 3])"
      ]
     },
     "execution_count": 3,
     "metadata": {},
     "output_type": "execute_result"
    }
   ],
   "source": [
    "def get_sample_arb8s():\n",
    "    arb8s = []\n",
    "\n",
    "    arb8s.append(np.array([[-0.56630238, -1.85304077, 18.1],\n",
    "              [-0., -2.41934315, 18.1],\n",
    "              [-1.66126057, -2.41934315, 18.1],\n",
    "              [-1.09495819, -1.85304077, 18.1],\n",
    "              [-0.56630238, -1.85304077, 18.3],\n",
    "              [-0., -2.41934315, 18.3],\n",
    "              [-1.66126057, -2.41934315, 18.3],\n",
    "              [-1.09495819, -1.85304077, 18.3]]))\n",
    "    arb8s.append(np.array([[-0.56630238, -1.85304077, 18.1],\n",
    "              [-0., -2.41934315, 18.1],\n",
    "              [-1.66126057, -2.41934315, 18.1],\n",
    "              [-1.09495819, -1.85304077, 18.1],\n",
    "              [-0.56630238, -1.85304077, 18.3],\n",
    "              [-0., -2.41934315, 18.3],\n",
    "              [-1.66126057, -2.41934315, 18.3],\n",
    "              [-1.09495819, -1.85304077, 18.3]]))\n",
    "    arb8s.append(np.array([[-0.56630238, -1.85304077, 18.1],\n",
    "              [-0., -2.41934315, 18.1],\n",
    "              [-1.66126057, -2.41934315, 18.1],\n",
    "              [-1.09495819, -1.85304077, 18.1],\n",
    "              [-0.56630238, -1.85304077, 18.3],\n",
    "              [-0., -2.41934315, 18.3],\n",
    "              [-1.66126057, -2.41934315, 18.3],\n",
    "              [-1.09495819, -1.85304077, 18.3]]))\n",
    "    arb8s.append(np.array([[0., -1.799, 0.0],\n",
    "              [0., 1.799, 0.0],\n",
    "              [0.5, 1.799, 0.0],\n",
    "              [0.5, -1.799, 0.0],\n",
    "              [0., -1.799, 10.0],\n",
    "              [0., 1.799, 10.0],\n",
    "              [0.5, 1.799, 10.0],\n",
    "              [0.5, -1.799, 10.0]]))\n",
    "    arb8s.append(np.array([[0., -1.799, 0.0],\n",
    "              [0., 1.799, 0.0],\n",
    "              [0.5, 1.799, 0.0],\n",
    "              [0.5, -1.799, 0.0],\n",
    "              [0., -1.799, 10.0],\n",
    "              [0., 1.799, 10.0],\n",
    "              [0.5, 1.799, 10.0],\n",
    "              [0.5, -1.799, 10.0]]))\n",
    "    arb8s.append(np.array([[0.5, 1.3, -10.0640477],\n",
    "              [0., 1.8, -10.0640477],\n",
    "              [1.02, 1.8, -10.0640477],\n",
    "              [0.52, 1.3, -10.0640477],\n",
    "              [0.5, 1.3, -5.5440477],\n",
    "              [0., 1.8, -5.5440477],\n",
    "              [1.02, 1.8, -5.5440477],\n",
    "              [0.52, 1.3, -5.5440477]]))\n",
    "\n",
    "    arb8s.append(np.array([[-0.52, 1.3, -10.0640477],\n",
    "              [-1.02, 1.8, -10.0640477],\n",
    "              [-0., 1.8, -10.0640477],\n",
    "              [-0.5, 1.3, -10.0640477],\n",
    "              [-0.52, 1.3, -5.5440477],\n",
    "              [-1.02, 1.8, -5.5440477],\n",
    "              [-0., 1.8, -5.5440477],\n",
    "              [-0.5, 1.3, -5.5440477]]))\n",
    "\n",
    "    arb8s.append(np.array([[0., -1.95744757, -5.3440477],\n",
    "              [0., 1.95744757, -5.3440477],\n",
    "              [0.70216476, 1.25528281, -5.3440477],\n",
    "              [0.70216476, -1.25528281, -5.3440477],\n",
    "              [0., -2.09849295, -4.89307861],\n",
    "              [0., 2.09849295, -4.89307861],\n",
    "              [0.96872421, 1.12976874, -4.89307861],\n",
    "              [0.96872421, -1.12976874, -4.89307861]]))\n",
    "\n",
    "    arb8s.append(np.array([[-0., 1.95744757, -5.3440477],\n",
    "              [-0., -1.95744757, -5.3440477],\n",
    "              [-0.70216476, -1.25528281, -5.3440477],\n",
    "              [-0.70216476, 1.25528281, -5.3440477],\n",
    "              [-0., 2.09849295, -4.89307861],\n",
    "              [-0., -2.09849295, -4.89307861],\n",
    "              [-0.96872421, -1.12976874, -4.89307861],\n",
    "              [-0.96872421, 1.12976874, -4.89307861]]))\n",
    "\n",
    "    \n",
    "\n",
    "    x = np.array(arb8s)\n",
    "    x = torch.from_numpy(x).float()\n",
    "\n",
    "    return x\n",
    "\n",
    "geo = get_sample_arb8s()\n",
    "geo.shape"
   ]
  },
  {
   "cell_type": "code",
   "execution_count": 4,
   "id": "fa4f95ce",
   "metadata": {},
   "outputs": [],
   "source": [
    "def get_blocks_hash(geo: torch.tensor, grid_dims=(100, 100, 1000), grid_lims=((-5, 5), (-5, 5), (0, 40))):\n",
    "    \"\"\"\n",
    "    Calculates a memory-efficient voxel hash grid for a given geometry.\n",
    "\n",
    "    This function avoids creating a meshgrid for the entire space. Instead, it\n",
    "    calculates the voxel index range for each block's bounding box and generates\n",
    "    indices only within that sub-volume.\n",
    "\n",
    "    Returns:\n",
    "        voxel_offsets (torch.Tensor): The CSR offset array.\n",
    "        block_ids (torch.Tensor): The CSR content array (block IDs).\n",
    "    \"\"\"\n",
    "    x_lim, y_lim, z_lim = grid_lims\n",
    "    nx, ny, nz = grid_dims\n",
    "    numel_grid = nx * ny * nz\n",
    "    device = geo.device\n",
    "\n",
    "    # Calculate the size of a single voxel cell\n",
    "    grid_size_x = (x_lim[1] - x_lim[0]) / nx\n",
    "    grid_size_y = (y_lim[1] - y_lim[0]) / ny\n",
    "    grid_size_z = (z_lim[1] - z_lim[0]) / nz\n",
    "\n",
    "    # --- Calculate block bounding boxes ---\n",
    "    # We add a small padding to handle floating point precision at the edges.\n",
    "    min_x = geo[:, :, 0].min(-1).values - grid_size_x\n",
    "    max_x = geo[:, :, 0].max(-1).values + grid_size_x\n",
    "    min_y = geo[:, :, 1].min(-1).values - grid_size_y\n",
    "    max_y = geo[:, :, 1].max(-1).values + grid_size_y\n",
    "    min_z = geo[:, :, 2].min(-1).values - grid_size_z\n",
    "    max_z = geo[:, :, 2].max(-1).values + grid_size_z\n",
    "\n",
    "    # --- Efficiently build the COO format without materializing the full grid ---\n",
    "    voxel_indices = []\n",
    "    block_ids = []\n",
    "\n",
    "    for i in range(len(geo)):\n",
    "        # Convert world-space AABB to integer index-space AABB\n",
    "        ix_min = torch.clamp(torch.floor((min_x[i] - x_lim[0]) / grid_size_x), 0, nx - 1).long()\n",
    "        ix_max = torch.clamp(torch.ceil((max_x[i] - x_lim[0]) / grid_size_x), 0, nx - 1).long()\n",
    "        iy_min = torch.clamp(torch.floor((min_y[i] - y_lim[0]) / grid_size_y), 0, ny - 1).long()\n",
    "        iy_max = torch.clamp(torch.ceil((max_y[i] - y_lim[0]) / grid_size_y), 0, ny - 1).long()\n",
    "        iz_min = torch.clamp(torch.floor((min_z[i] - z_lim[0]) / grid_size_z), 0, nz - 1).long()\n",
    "        iz_max = torch.clamp(torch.ceil((max_z[i] - z_lim[0]) / grid_size_z), 0, nz - 1).long()\n",
    "\n",
    "        # If the index range is valid, create voxel indices for this block\n",
    "        if ix_min <= ix_max and iy_min <= iy_max and iz_min <= iz_max:\n",
    "            # Create a small, local meshgrid only for the sub-volume of this block\n",
    "            ix_range = torch.arange(ix_min, ix_max + 1, device=device)\n",
    "            iy_range = torch.arange(iy_min, iy_max + 1, device=device)\n",
    "            iz_range = torch.arange(iz_min, iz_max + 1, device=device)\n",
    "            \n",
    "            grid_x, grid_y, grid_z = torch.meshgrid(ix_range, iy_range, iz_range, indexing='ij')\n",
    "\n",
    "            # Convert 3D indices to 1D linear indices and flatten\n",
    "            linear_indices = (grid_z.flatten() * (nx * ny) + \n",
    "                              grid_y.flatten() * nx + \n",
    "                              grid_x.flatten())\n",
    "            \n",
    "            voxel_indices.append(linear_indices)\n",
    "            block_ids.append(torch.full_like(linear_indices, fill_value=i))\n",
    "\n",
    "    # --- Convert from COO to CSR format (same as before) ---\n",
    "    if len(voxel_indices) > 0:\n",
    "        voxel_indices = torch.cat(voxel_indices)\n",
    "        block_ids = torch.cat(block_ids)\n",
    "    else:\n",
    "        voxel_indices = torch.tensor([], dtype=torch.long, device=device)\n",
    "        block_ids = torch.tensor([], dtype=torch.long, device=device)\n",
    "\n",
    "    # Sort by voxel index to group blocks\n",
    "    voxel_indices, sorted_indices = torch.sort(voxel_indices)\n",
    "    block_ids = block_ids[sorted_indices]\n",
    "    \n",
    "    # Create the final offset array\n",
    "    voxel_offsets = torch.zeros(numel_grid + 1, dtype=torch.int32, device=device)\n",
    "    unique_voxel_indices, counts = torch.unique_consecutive(voxel_indices, return_counts=True)\n",
    "    \n",
    "    # Place the counts into the correct positions and compute the cumulative sum (prefix sum)\n",
    "    voxel_offsets.scatter_add_(0, unique_voxel_indices + 1, counts.to(torch.int32))\n",
    "    voxel_offsets = torch.cumsum(voxel_offsets, dim=0)\n",
    "    \n",
    "    return voxel_offsets, block_ids"
   ]
  },
  {
   "cell_type": "code",
   "execution_count": 5,
   "id": "de56d166",
   "metadata": {},
   "outputs": [
    {
     "name": "stdout",
     "output_type": "stream",
     "text": [
      "CPU times: user 3 μs, sys: 0 ns, total: 3 μs\n",
      "Wall time: 6.44 μs\n"
     ]
    }
   ],
   "source": [
    "%time\n",
    "voxel_offsets, voxel_contents = get_blocks_hash(geo,grid_dims, (x_lim, y_lim, z_lim))"
   ]
  },
  {
   "cell_type": "code",
   "execution_count": 6,
   "id": "3ff9925d",
   "metadata": {},
   "outputs": [
    {
     "name": "stdout",
     "output_type": "stream",
     "text": [
      "\n",
      "--- Final Tensors for CUDA ---\n",
      "Voxel Contents Shape: torch.Size([85446])\n",
      "Voxel Offsets Shape:  torch.Size([10000001])\n",
      "Total overlaps stored: 85446\n"
     ]
    }
   ],
   "source": [
    "print(\"\\n--- Final Tensors for CUDA ---\")\n",
    "print(f\"Voxel Contents Shape: {voxel_contents.shape}\")\n",
    "print(f\"Voxel Offsets Shape:  {voxel_offsets.shape}\")\n",
    "print(f\"Total overlaps stored: {len(voxel_contents)}\")"
   ]
  },
  {
   "cell_type": "code",
   "execution_count": 7,
   "id": "e263db88",
   "metadata": {},
   "outputs": [
    {
     "name": "stdout",
     "output_type": "stream",
     "text": [
      "CPU times: user 5 μs, sys: 0 ns, total: 5 μs\n",
      "Wall time: 11.7 μs\n",
      "\n",
      "Example lookup for voxel 5050500:\n",
      "  -> Start index from offset array: 85446\n",
      "  -> End index from offset array:   85446\n",
      "  -> Candidate Block IDs from content array: tensor([], dtype=torch.int64)\n"
     ]
    }
   ],
   "source": [
    "%time\n",
    "# --- EXAMPLE USAGE ---\n",
    "# Let's see which blocks are in voxel 5050500\n",
    "voxel_idx_to_check = 5050500\n",
    "start_index = voxel_offsets[voxel_idx_to_check]\n",
    "end_index = voxel_offsets[voxel_idx_to_check + 1]\n",
    "candidate_blocks = voxel_contents[start_index:end_index]\n",
    "\n",
    "print(f\"\\nExample lookup for voxel {voxel_idx_to_check}:\")\n",
    "print(f\"  -> Start index from offset array: {start_index}\")\n",
    "print(f\"  -> End index from offset array:   {end_index}\")\n",
    "print(f\"  -> Candidate Block IDs from content array: {candidate_blocks}\")"
   ]
  },
  {
   "cell_type": "code",
   "execution_count": null,
   "id": "a6515c11",
   "metadata": {},
   "outputs": [],
   "source": []
  },
  {
   "cell_type": "code",
   "execution_count": 8,
   "id": "db944b0a",
   "metadata": {},
   "outputs": [],
   "source": [
    "import torch\n",
    "\n",
    "def get_candidates_from_hash(\n",
    "    point_xyz: torch.Tensor,\n",
    "    voxel_offsets: torch.Tensor,\n",
    "    voxel_contents: torch.Tensor,\n",
    "    grid_dims=(100, 100, 1000),\n",
    "    grid_lims=((-5, 5), (-5, 5), (0, 40))\n",
    "):\n",
    "    \"\"\"\n",
    "    Finds candidate block IDs for a given point using the pre-computed voxel hash.\n",
    "\n",
    "    Args:\n",
    "        point_xyz (torch.Tensor): A tensor of shape [3] with the (x, y, z) coordinates.\n",
    "        voxel_offsets (torch.Tensor): The CSR offset array from get_blocks_hash.\n",
    "        voxel_contents (torch.Tensor): The CSR content array from get_blocks_hash.\n",
    "        grid_dims (tuple): The dimensions of the grid (nx, ny, nz).\n",
    "        grid_lims (tuple): The world-space limits of the grid ((x_min, x_max), ...).\n",
    "\n",
    "    Returns:\n",
    "        torch.Tensor: A 1D tensor containing the candidate block IDs.\n",
    "    \"\"\"\n",
    "    x_lim, y_lim, z_lim = grid_lims\n",
    "    nx, ny, nz = grid_dims\n",
    "    device = voxel_offsets.device\n",
    "\n",
    "    # --- 1. Calculate the 1D Voxel Index for the point ---\n",
    "\n",
    "    # Check if the point is outside the grid bounds first\n",
    "    if (point_xyz[0] < x_lim[0] or point_xyz[0] > x_lim[1] or\n",
    "        point_xyz[1] < y_lim[0] or point_xyz[1] > y_lim[1] or\n",
    "        point_xyz[2] < z_lim[0] or point_xyz[2] > z_lim[1]):\n",
    "        return torch.tensor([], dtype=torch.long, device=device) # Outside the grid\n",
    "\n",
    "    # Calculate the size of a single voxel cell\n",
    "    grid_size_x = (x_lim[1] - x_lim[0]) / nx\n",
    "    grid_size_y = (y_lim[1] - y_lim[0]) / ny\n",
    "    grid_size_z = (z_lim[1] - z_lim[0]) / nz\n",
    "\n",
    "    # Convert world coordinates to 3D integer indices\n",
    "    ix = torch.clamp(torch.floor((point_xyz[0] - x_lim[0]) / grid_size_x), 0, nx - 1).long()\n",
    "    iy = torch.clamp(torch.floor((point_xyz[1] - y_lim[0]) / grid_size_y), 0, ny - 1).long()\n",
    "    iz = torch.clamp(torch.floor((point_xyz[2] - z_lim[0]) / grid_size_z), 0, nz - 1).long()\n",
    "\n",
    "    # Convert 3D index to 1D linear index\n",
    "    linear_voxel_index = iz * (nx * ny) + iy * nx + ix\n",
    "\n",
    "    # --- 2. Find the Range using the offsets tensor ---\n",
    "    start_index = voxel_offsets[linear_voxel_index]\n",
    "    end_index = voxel_offsets[linear_voxel_index + 1]\n",
    "\n",
    "    # --- 3. Get the Block IDs from the contents tensor ---\n",
    "    candidate_ids = voxel_contents[start_index:end_index]\n",
    "\n",
    "    return candidate_ids"
   ]
  },
  {
   "cell_type": "code",
   "execution_count": 9,
   "id": "eaf59d5b",
   "metadata": {},
   "outputs": [
    {
     "name": "stdout",
     "output_type": "stream",
     "text": [
      "CPU times: user 5 μs, sys: 0 ns, total: 5 μs\n",
      "Wall time: 10.7 μs\n"
     ]
    },
    {
     "data": {
      "text/plain": [
       "tensor([3])"
      ]
     },
     "execution_count": 9,
     "metadata": {},
     "output_type": "execute_result"
    }
   ],
   "source": [
    "point = torch.tensor([0.0, 0.0, 2.0], device=voxel_offsets.device)\n",
    "%time\n",
    "get_candidates_from_hash(point, voxel_offsets, voxel_contents, grid_dims, (x_lim, y_lim, z_lim))"
   ]
  }
 ],
 "metadata": {
  "kernelspec": {
   "display_name": "base",
   "language": "python",
   "name": "python3"
  },
  "language_info": {
   "codemirror_mode": {
    "name": "ipython",
    "version": 3
   },
   "file_extension": ".py",
   "mimetype": "text/x-python",
   "name": "python",
   "nbconvert_exporter": "python",
   "pygments_lexer": "ipython3",
   "version": "3.12.2"
  }
 },
 "nbformat": 4,
 "nbformat_minor": 5
}
